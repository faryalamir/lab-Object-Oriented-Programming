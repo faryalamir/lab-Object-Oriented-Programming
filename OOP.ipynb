{
 "cells": [
  {
   "cell_type": "markdown",
   "id": "3620cf7f",
   "metadata": {},
   "source": [
    "# Lab | Object Oriented Programming"
   ]
  },
  {
   "cell_type": "code",
   "execution_count": 2,
   "id": "a951582e",
   "metadata": {},
   "outputs": [],
   "source": [
    "class TV:\n",
    "    # Class attribute to store valid inputs\n",
    "    valid_inputs = [\"Antenna\", \"HDMI1\", \"HDMI2\", \"HDMI3\"]\n",
    "    \n",
    "    # Constructor method of the class.\n",
    "    def __init__(self, on=False, volume=0, channel=1, in_put='Antenna', size=42):\n",
    "        # self is the instance of the class.\n",
    "        self.on = on\n",
    "        self.volume = volume\n",
    "        self.channel = channel\n",
    "        self.in_put = in_put\n",
    "        self.size = size if size in (42, 50, 55, 65, 75) else 42\n",
    "    \n",
    "    def showTV(self):\n",
    "        print(f\"TV is {'on' if self.on else 'off'}, Volume: {self.volume}, Channel: {self.channel}, Input: {self.in_put}, Size: {self.size} inches\")\n",
    "    \n",
    "    def switch_on(self):\n",
    "        if self.on:\n",
    "            print('TV is already switched on')\n",
    "        else:\n",
    "            self.on = True\n",
    "            print('TV is switched on')\n",
    "    \n",
    "    def switch_off(self):\n",
    "        if not self.on:\n",
    "            print('TV is already switched off')\n",
    "        else:\n",
    "            self.on = False\n",
    "            print('TV is switched off')\n",
    "    \n",
    "    def set_volume(self, value):\n",
    "        print(f'Current volume: {self.volume}')\n",
    "        self.volume = value if 0 <= value <= 100 else 10\n",
    "        print(f'New volume: {self.volume}')\n",
    "    \n",
    "    def change_channel(self, value):\n",
    "        print(f'Current channel: {self.channel}')\n",
    "        self.channel = value if 1 <= value <= 10 else 1\n",
    "        print(f'New channel: {self.channel}')\n",
    "    \n",
    "    def set_input(self, value):\n",
    "        print(f'Current input: {self.in_put}')\n",
    "        self.in_put = value if value in self.valid_inputs else 'Antenna'\n",
    "        print(f'New input: {self.in_put}')"
   ]
  },
  {
   "cell_type": "code",
   "execution_count": 3,
   "id": "4ba03257",
   "metadata": {},
   "outputs": [
    {
     "name": "stdout",
     "output_type": "stream",
     "text": [
      "TV is off, Volume: 50, Channel: 1, Input: Antenna, Size: 65 inches\n"
     ]
    }
   ],
   "source": [
    "myTV = TV(volume=50, size=65)\n",
    "myTV.showTV()"
   ]
  },
  {
   "cell_type": "code",
   "execution_count": 4,
   "id": "1d8e4bfb",
   "metadata": {},
   "outputs": [
    {
     "name": "stdout",
     "output_type": "stream",
     "text": [
      "TV is switched on\n"
     ]
    }
   ],
   "source": [
    "myTV.switch_on()\n"
   ]
  },
  {
   "cell_type": "code",
   "execution_count": 5,
   "id": "4341953a",
   "metadata": {},
   "outputs": [
    {
     "name": "stdout",
     "output_type": "stream",
     "text": [
      "TV is switched off\n"
     ]
    }
   ],
   "source": [
    "myTV.switch_off()\n"
   ]
  },
  {
   "cell_type": "code",
   "execution_count": 6,
   "id": "c6ef0fff",
   "metadata": {},
   "outputs": [
    {
     "name": "stdout",
     "output_type": "stream",
     "text": [
      "Current volume: 50\n",
      "New volume: 75\n"
     ]
    }
   ],
   "source": [
    "myTV.set_volume(75)\n"
   ]
  },
  {
   "cell_type": "code",
   "execution_count": 7,
   "id": "a88776d4",
   "metadata": {},
   "outputs": [
    {
     "name": "stdout",
     "output_type": "stream",
     "text": [
      "Current channel: 1\n",
      "New channel: 5\n"
     ]
    }
   ],
   "source": [
    "myTV.change_channel(5)\n"
   ]
  },
  {
   "cell_type": "code",
   "execution_count": 8,
   "id": "585e6b1d",
   "metadata": {},
   "outputs": [
    {
     "name": "stdout",
     "output_type": "stream",
     "text": [
      "Current input: Antenna\n",
      "New input: HDMI2\n"
     ]
    }
   ],
   "source": [
    "myTV.set_input('HDMI2')\n"
   ]
  },
  {
   "cell_type": "code",
   "execution_count": 9,
   "id": "7a14c302",
   "metadata": {},
   "outputs": [
    {
     "name": "stdout",
     "output_type": "stream",
     "text": [
      "Current input: HDMI2\n",
      "New input: Antenna\n"
     ]
    }
   ],
   "source": [
    "myTV.set_input('invalid_input')\n"
   ]
  },
  {
   "cell_type": "code",
   "execution_count": null,
   "id": "ede1bc6b",
   "metadata": {},
   "outputs": [],
   "source": []
  }
 ],
 "metadata": {
  "kernelspec": {
   "display_name": "Python 3 (ipykernel)",
   "language": "python",
   "name": "python3"
  },
  "language_info": {
   "codemirror_mode": {
    "name": "ipython",
    "version": 3
   },
   "file_extension": ".py",
   "mimetype": "text/x-python",
   "name": "python",
   "nbconvert_exporter": "python",
   "pygments_lexer": "ipython3",
   "version": "3.11.4"
  }
 },
 "nbformat": 4,
 "nbformat_minor": 5
}
